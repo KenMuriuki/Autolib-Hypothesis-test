{
  "nbformat": 4,
  "nbformat_minor": 0,
  "metadata": {
    "colab": {
      "name": "Moringa_Data_Science_Core_W4_Independent_Project_2020_07_Kennedy_Muriuki_Autolib",
      "provenance": [],
      "toc_visible": true,
      "authorship_tag": "ABX9TyMftjohYFWDS69s5BtJj28V",
      "include_colab_link": true
    },
    "kernelspec": {
      "name": "python3",
      "display_name": "Python 3"
    }
  },
  "cells": [
    {
      "cell_type": "markdown",
      "metadata": {
        "id": "view-in-github",
        "colab_type": "text"
      },
      "source": [
        "<a href=\"https://colab.research.google.com/github/KenMuriuki/Autolib-Hypothesis-test/blob/master/Moringa_Data_Science_Core_W4_Independent_Project_2020_07_Kennedy_Muriuki_Autolib.ipynb\" target=\"_parent\"><img src=\"https://colab.research.google.com/assets/colab-badge.svg\" alt=\"Open In Colab\"/></a>"
      ]
    },
    {
      "cell_type": "markdown",
      "metadata": {
        "id": "KoRl3toVH_Jg",
        "colab_type": "text"
      },
      "source": [
        "# Moringa Data Science project week 4"
      ]
    },
    {
      "cell_type": "markdown",
      "metadata": {
        "id": "WurIISyWILuy",
        "colab_type": "text"
      },
      "source": [
        "In this weeks independent project, we are working as data scientists in the Autolib electric car sharing company to investigate a claim about the blue cars from the provided Autolib dataset."
      ]
    },
    {
      "cell_type": "markdown",
      "metadata": {
        "id": "bFlhqtD0JIFQ",
        "colab_type": "text"
      },
      "source": [
        "## Loading the dataset and checking through the dataset\n"
      ]
    },
    {
      "cell_type": "code",
      "metadata": {
        "id": "sOOAfl1eJXAy",
        "colab_type": "code",
        "colab": {
          "base_uri": "https://localhost:8080/",
          "height": 71
        },
        "outputId": "e3d48e7a-6bf8-42ae-c9e8-eda3bafcff03"
      },
      "source": [
        "# loading the required libraries\n",
        "import pandas as pd\n",
        "from scipy.stats import t\n",
        "import numpy as np\n",
        "import scipy.stats as stats\n",
        "import seaborn as sns\n",
        "import matplotlib.pyplot as plt\n",
        "%matplotlib inline"
      ],
      "execution_count": 4,
      "outputs": [
        {
          "output_type": "stream",
          "text": [
            "/usr/local/lib/python3.6/dist-packages/statsmodels/tools/_testing.py:19: FutureWarning: pandas.util.testing is deprecated. Use the functions in the public API at pandas.testing instead.\n",
            "  import pandas.util.testing as tm\n"
          ],
          "name": "stderr"
        }
      ]
    },
    {
      "cell_type": "code",
      "metadata": {
        "id": "vNTiMQtsJ6RH",
        "colab_type": "code",
        "colab": {
          "base_uri": "https://localhost:8080/",
          "height": 241
        },
        "outputId": "9b78727a-c181-49d5-9e4b-3a0b35fc81bc"
      },
      "source": [
        "# loading the dataset\n",
        "autolib_dataset = pd.read_csv('autolib_daily_events.csv')\n",
        "autolib_dataset.head()"
      ],
      "execution_count": 6,
      "outputs": [
        {
          "output_type": "execute_result",
          "data": {
            "text/html": [
              "<div>\n",
              "<style scoped>\n",
              "    .dataframe tbody tr th:only-of-type {\n",
              "        vertical-align: middle;\n",
              "    }\n",
              "\n",
              "    .dataframe tbody tr th {\n",
              "        vertical-align: top;\n",
              "    }\n",
              "\n",
              "    .dataframe thead th {\n",
              "        text-align: right;\n",
              "    }\n",
              "</style>\n",
              "<table border=\"1\" class=\"dataframe\">\n",
              "  <thead>\n",
              "    <tr style=\"text-align: right;\">\n",
              "      <th></th>\n",
              "      <th>Postal code</th>\n",
              "      <th>date</th>\n",
              "      <th>n_daily_data_points</th>\n",
              "      <th>dayOfWeek</th>\n",
              "      <th>day_type</th>\n",
              "      <th>BlueCars_taken_sum</th>\n",
              "      <th>BlueCars_returned_sum</th>\n",
              "      <th>Utilib_taken_sum</th>\n",
              "      <th>Utilib_returned_sum</th>\n",
              "      <th>Utilib_14_taken_sum</th>\n",
              "      <th>Utilib_14_returned_sum</th>\n",
              "      <th>Slots_freed_sum</th>\n",
              "      <th>Slots_taken_sum</th>\n",
              "    </tr>\n",
              "  </thead>\n",
              "  <tbody>\n",
              "    <tr>\n",
              "      <th>0</th>\n",
              "      <td>75001</td>\n",
              "      <td>1/1/2018</td>\n",
              "      <td>1440</td>\n",
              "      <td>0</td>\n",
              "      <td>weekday</td>\n",
              "      <td>110</td>\n",
              "      <td>103</td>\n",
              "      <td>3</td>\n",
              "      <td>2</td>\n",
              "      <td>10</td>\n",
              "      <td>9</td>\n",
              "      <td>22</td>\n",
              "      <td>20</td>\n",
              "    </tr>\n",
              "    <tr>\n",
              "      <th>1</th>\n",
              "      <td>75001</td>\n",
              "      <td>1/2/2018</td>\n",
              "      <td>1438</td>\n",
              "      <td>1</td>\n",
              "      <td>weekday</td>\n",
              "      <td>98</td>\n",
              "      <td>94</td>\n",
              "      <td>1</td>\n",
              "      <td>1</td>\n",
              "      <td>8</td>\n",
              "      <td>8</td>\n",
              "      <td>23</td>\n",
              "      <td>22</td>\n",
              "    </tr>\n",
              "    <tr>\n",
              "      <th>2</th>\n",
              "      <td>75001</td>\n",
              "      <td>1/3/2018</td>\n",
              "      <td>1439</td>\n",
              "      <td>2</td>\n",
              "      <td>weekday</td>\n",
              "      <td>138</td>\n",
              "      <td>139</td>\n",
              "      <td>0</td>\n",
              "      <td>0</td>\n",
              "      <td>2</td>\n",
              "      <td>2</td>\n",
              "      <td>27</td>\n",
              "      <td>27</td>\n",
              "    </tr>\n",
              "    <tr>\n",
              "      <th>3</th>\n",
              "      <td>75001</td>\n",
              "      <td>1/4/2018</td>\n",
              "      <td>1320</td>\n",
              "      <td>3</td>\n",
              "      <td>weekday</td>\n",
              "      <td>104</td>\n",
              "      <td>104</td>\n",
              "      <td>2</td>\n",
              "      <td>2</td>\n",
              "      <td>9</td>\n",
              "      <td>8</td>\n",
              "      <td>25</td>\n",
              "      <td>21</td>\n",
              "    </tr>\n",
              "    <tr>\n",
              "      <th>4</th>\n",
              "      <td>75001</td>\n",
              "      <td>1/5/2018</td>\n",
              "      <td>1440</td>\n",
              "      <td>4</td>\n",
              "      <td>weekday</td>\n",
              "      <td>114</td>\n",
              "      <td>117</td>\n",
              "      <td>3</td>\n",
              "      <td>3</td>\n",
              "      <td>6</td>\n",
              "      <td>6</td>\n",
              "      <td>18</td>\n",
              "      <td>20</td>\n",
              "    </tr>\n",
              "  </tbody>\n",
              "</table>\n",
              "</div>"
            ],
            "text/plain": [
              "   Postal code      date  ...  Slots_freed_sum  Slots_taken_sum\n",
              "0        75001  1/1/2018  ...               22               20\n",
              "1        75001  1/2/2018  ...               23               22\n",
              "2        75001  1/3/2018  ...               27               27\n",
              "3        75001  1/4/2018  ...               25               21\n",
              "4        75001  1/5/2018  ...               18               20\n",
              "\n",
              "[5 rows x 13 columns]"
            ]
          },
          "metadata": {
            "tags": []
          },
          "execution_count": 6
        }
      ]
    },
    {
      "cell_type": "code",
      "metadata": {
        "id": "I196Rf-0MFHg",
        "colab_type": "code",
        "colab": {
          "base_uri": "https://localhost:8080/",
          "height": 34
        },
        "outputId": "4d843b02-f5d1-4067-892a-509def3449aa"
      },
      "source": [
        "# identifying the shape of the dataset\n",
        "autolib_dataset.shape"
      ],
      "execution_count": 6,
      "outputs": [
        {
          "output_type": "execute_result",
          "data": {
            "text/plain": [
              "(16085, 13)"
            ]
          },
          "metadata": {
            "tags": []
          },
          "execution_count": 6
        }
      ]
    },
    {
      "cell_type": "code",
      "metadata": {
        "id": "HgniFXevMNca",
        "colab_type": "code",
        "colab": {
          "base_uri": "https://localhost:8080/",
          "height": 357
        },
        "outputId": "232cfa3e-28ff-4c2a-fa02-d623e7d0904f"
      },
      "source": [
        "# looking at the info of the dataset\n",
        "autolib_dataset.info()"
      ],
      "execution_count": 10,
      "outputs": [
        {
          "output_type": "stream",
          "text": [
            "<class 'pandas.core.frame.DataFrame'>\n",
            "RangeIndex: 16085 entries, 0 to 16084\n",
            "Data columns (total 13 columns):\n",
            " #   Column                  Non-Null Count  Dtype \n",
            "---  ------                  --------------  ----- \n",
            " 0   Postal code             16085 non-null  int64 \n",
            " 1   date                    16085 non-null  object\n",
            " 2   n_daily_data_points     16085 non-null  int64 \n",
            " 3   dayOfWeek               16085 non-null  int64 \n",
            " 4   day_type                16085 non-null  object\n",
            " 5   BlueCars_taken_sum      16085 non-null  int64 \n",
            " 6   BlueCars_returned_sum   16085 non-null  int64 \n",
            " 7   Utilib_taken_sum        16085 non-null  int64 \n",
            " 8   Utilib_returned_sum     16085 non-null  int64 \n",
            " 9   Utilib_14_taken_sum     16085 non-null  int64 \n",
            " 10  Utilib_14_returned_sum  16085 non-null  int64 \n",
            " 11  Slots_freed_sum         16085 non-null  int64 \n",
            " 12  Slots_taken_sum         16085 non-null  int64 \n",
            "dtypes: int64(11), object(2)\n",
            "memory usage: 1.6+ MB\n"
          ],
          "name": "stdout"
        }
      ]
    },
    {
      "cell_type": "code",
      "metadata": {
        "id": "TV0jaA-sMj-N",
        "colab_type": "code",
        "colab": {
          "base_uri": "https://localhost:8080/",
          "height": 34
        },
        "outputId": "e9ffa4cb-9df6-47e5-9a0b-c141fc85f61f"
      },
      "source": [
        "# looking for the missing values in the dataset\n",
        "\n",
        "autolib_dataset.isnull().values.any()"
      ],
      "execution_count": 17,
      "outputs": [
        {
          "output_type": "execute_result",
          "data": {
            "text/plain": [
              "False"
            ]
          },
          "metadata": {
            "tags": []
          },
          "execution_count": 17
        }
      ]
    },
    {
      "cell_type": "code",
      "metadata": {
        "id": "YCVbfAGcNk8A",
        "colab_type": "code",
        "colab": {
          "base_uri": "https://localhost:8080/",
          "height": 255
        },
        "outputId": "e38e4828-b820-44dd-8cdd-c5cb3c68dfe5"
      },
      "source": [
        "# confirming there are no missing values\n",
        "\n",
        "autolib_dataset.isnull().sum()"
      ],
      "execution_count": 18,
      "outputs": [
        {
          "output_type": "execute_result",
          "data": {
            "text/plain": [
              "Postal code               0\n",
              "date                      0\n",
              "n_daily_data_points       0\n",
              "dayOfWeek                 0\n",
              "day_type                  0\n",
              "BlueCars_taken_sum        0\n",
              "BlueCars_returned_sum     0\n",
              "Utilib_taken_sum          0\n",
              "Utilib_returned_sum       0\n",
              "Utilib_14_taken_sum       0\n",
              "Utilib_14_returned_sum    0\n",
              "Slots_freed_sum           0\n",
              "Slots_taken_sum           0\n",
              "dtype: int64"
            ]
          },
          "metadata": {
            "tags": []
          },
          "execution_count": 18
        }
      ]
    },
    {
      "cell_type": "markdown",
      "metadata": {
        "id": "umGWAFejNIYG",
        "colab_type": "text"
      },
      "source": [
        "## Conducting the necesary data cleaning procedures"
      ]
    },
    {
      "cell_type": "code",
      "metadata": {
        "id": "am9xrIBJN5C7",
        "colab_type": "code",
        "colab": {
          "base_uri": "https://localhost:8080/",
          "height": 221
        },
        "outputId": "2f170bae-164e-4902-c629-f5d7ff641563"
      },
      "source": [
        "# checking for duplicates\n",
        "\n",
        "autolib_dataset.duplicated()"
      ],
      "execution_count": 40,
      "outputs": [
        {
          "output_type": "execute_result",
          "data": {
            "text/plain": [
              "0        False\n",
              "1        False\n",
              "2        False\n",
              "3        False\n",
              "4        False\n",
              "         ...  \n",
              "16080    False\n",
              "16081    False\n",
              "16082    False\n",
              "16083    False\n",
              "16084    False\n",
              "Length: 16085, dtype: bool"
            ]
          },
          "metadata": {
            "tags": []
          },
          "execution_count": 40
        }
      ]
    },
    {
      "cell_type": "code",
      "metadata": {
        "id": "eQAo2uIDW8FJ",
        "colab_type": "code",
        "colab": {
          "base_uri": "https://localhost:8080/",
          "height": 284
        },
        "outputId": "ee55d75d-a690-4da4-aaf8-c2c1f0e3cc2f"
      },
      "source": [
        "# checking for outliers\n",
        "\n",
        "autolib_dataset.boxplot(['BlueCars_taken_sum','BlueCars_returned_sum','Utilib_taken_sum','Utilib_returned_sum','Utilib_14_taken_sum','Utilib_14_returned_sum','Slots_freed_sum','Slots_taken_sum'])"
      ],
      "execution_count": 46,
      "outputs": [
        {
          "output_type": "execute_result",
          "data": {
            "text/plain": [
              "<matplotlib.axes._subplots.AxesSubplot at 0x7fb63cb85a20>"
            ]
          },
          "metadata": {
            "tags": []
          },
          "execution_count": 46
        },
        {
          "output_type": "display_data",
          "data": {
            "image/png": "[encoded data removed]",
            "text/plain": [
              "<Figure size 432x288 with 1 Axes>"
            ]
          },
          "metadata": {
            "tags": [],
            "needs_background": "light"
          }
        }
      ]
    },
    {
      "cell_type": "markdown",
      "metadata": {
        "id": "9iwuK21TZMcz",
        "colab_type": "text"
      },
      "source": [
        "Since the data is composed of outliers, we will not remove them."
      ]
    },
    {
      "cell_type": "markdown",
      "metadata": {
        "id": "nGIlKYK4Zld-",
        "colab_type": "text"
      },
      "source": [
        "## Univariate summaries"
      ]
    },
    {
      "cell_type": "code",
      "metadata": {
        "id": "xWvxhKKPZyzM",
        "colab_type": "code",
        "colab": {
          "base_uri": "https://localhost:8080/",
          "height": 296
        },
        "outputId": "fc1e64ae-2054-4602-9273-c3d249950f64"
      },
      "source": [
        "sns.countplot(autolib_dataset['dayOfWeek'])"
      ],
      "execution_count": 80,
      "outputs": [
        {
          "output_type": "execute_result",
          "data": {
            "text/plain": [
              "<matplotlib.axes._subplots.AxesSubplot at 0x7fb639288d68>"
            ]
          },
          "metadata": {
            "tags": []
          },
          "execution_count": 80
        },
        {
          "output_type": "display_data",
          "data": {
            "image/png": "[encoded data removed]",
            "text/plain": [
              "<Figure size 432x288 with 1 Axes>"
            ]
          },
          "metadata": {
            "tags": [],
            "needs_background": "light"
          }
        }
      ]
    },
    {
      "cell_type": "code",
      "metadata": {
        "id": "SqtsjOZ3bCUG",
        "colab_type": "code",
        "colab": {
          "base_uri": "https://localhost:8080/",
          "height": 315
        },
        "outputId": "8f93ba0d-a86a-4bbd-fad4-fcc1766f27f3"
      },
      "source": [
        "x = autolib_dataset['day_type'].value_counts()\n",
        "print(x)\n",
        "\n",
        "plt.pie(x, autopct='%1.1f%%', labels=['Weekday','Weekend'], explode=(0.1,0), startangle=180, shadow=True)\n",
        "plt.axis('equal')\n",
        "plt.title('Pie chart showing distribution among weekdays and weekends')\n",
        "plt.show()"
      ],
      "execution_count": 67,
      "outputs": [
        {
          "output_type": "stream",
          "text": [
            "weekday    11544\n",
            "weekend     4541\n",
            "Name: day_type, dtype: int64\n"
          ],
          "name": "stdout"
        },
        {
          "output_type": "display_data",
          "data": {
            "image/png": "[encoded data removed]",
            "text/plain": [
              "<Figure size 432x288 with 1 Axes>"
            ]
          },
          "metadata": {
            "tags": []
          }
        }
      ]
    },
    {
      "cell_type": "code",
      "metadata": {
        "id": "cK61f7C_dqo_",
        "colab_type": "code",
        "colab": {
          "base_uri": "https://localhost:8080/",
          "height": 282
        },
        "outputId": "00baa82a-748d-4c37-f41d-19490513cf1e"
      },
      "source": [
        "autolib_dataset['n_daily_data_points'].plot.hist()"
      ],
      "execution_count": 72,
      "outputs": [
        {
          "output_type": "execute_result",
          "data": {
            "text/plain": [
              "<matplotlib.axes._subplots.AxesSubplot at 0x7fb63ae84780>"
            ]
          },
          "metadata": {
            "tags": []
          },
          "execution_count": 72
        },
        {
          "output_type": "display_data",
          "data": {
            "image/png": "[encoded data removed]",
            "text/plain": [
              "<Figure size 432x288 with 1 Axes>"
            ]
          },
          "metadata": {
            "tags": [],
            "needs_background": "light"
          }
        }
      ]
    },
    {
      "cell_type": "code",
      "metadata": {
        "id": "_XUAzxDQfMNN",
        "colab_type": "code",
        "colab": {
          "base_uri": "https://localhost:8080/",
          "height": 283
        },
        "outputId": "cfcdaf75-9085-4c49-e414-1cf343306587"
      },
      "source": [
        "autolib_dataset['BlueCars_taken_sum'].plot.area()"
      ],
      "execution_count": 74,
      "outputs": [
        {
          "output_type": "execute_result",
          "data": {
            "text/plain": [
              "<matplotlib.axes._subplots.AxesSubplot at 0x7fb63a6f6d68>"
            ]
          },
          "metadata": {
            "tags": []
          },
          "execution_count": 74
        },
        {
          "output_type": "display_data",
          "data": {
            "image/png": "[encoded data removed]",
            "text/plain": [
              "<Figure size 432x288 with 1 Axes>"
            ]
          },
          "metadata": {
            "tags": [],
            "needs_background": "light"
          }
        }
      ]
    },
    {
      "cell_type": "markdown",
      "metadata": {
        "id": "4qgMI0refpgL",
        "colab_type": "text"
      },
      "source": [
        "## Bivariate summaries"
      ]
    },
    {
      "cell_type": "code",
      "metadata": {
        "id": "Z6dK5zEFfxg-",
        "colab_type": "code",
        "colab": {
          "base_uri": "https://localhost:8080/",
          "height": 148
        },
        "outputId": "a1023ae5-87cf-4508-c2e1-f8d1c0678544"
      },
      "source": [
        "autolib_dataset.head(2)"
      ],
      "execution_count": 75,
      "outputs": [
        {
          "output_type": "execute_result",
          "data": {
            "text/html": [
              "<div>\n",
              "<style scoped>\n",
              "    .dataframe tbody tr th:only-of-type {\n",
              "        vertical-align: middle;\n",
              "    }\n",
              "\n",
              "    .dataframe tbody tr th {\n",
              "        vertical-align: top;\n",
              "    }\n",
              "\n",
              "    .dataframe thead th {\n",
              "        text-align: right;\n",
              "    }\n",
              "</style>\n",
              "<table border=\"1\" class=\"dataframe\">\n",
              "  <thead>\n",
              "    <tr style=\"text-align: right;\">\n",
              "      <th></th>\n",
              "      <th>Postal code</th>\n",
              "      <th>date</th>\n",
              "      <th>n_daily_data_points</th>\n",
              "      <th>dayOfWeek</th>\n",
              "      <th>day_type</th>\n",
              "      <th>BlueCars_taken_sum</th>\n",
              "      <th>BlueCars_returned_sum</th>\n",
              "      <th>Utilib_taken_sum</th>\n",
              "      <th>Utilib_returned_sum</th>\n",
              "      <th>Utilib_14_taken_sum</th>\n",
              "      <th>Utilib_14_returned_sum</th>\n",
              "      <th>Slots_freed_sum</th>\n",
              "      <th>Slots_taken_sum</th>\n",
              "    </tr>\n",
              "  </thead>\n",
              "  <tbody>\n",
              "    <tr>\n",
              "      <th>0</th>\n",
              "      <td>75001</td>\n",
              "      <td>1/1/2018</td>\n",
              "      <td>1440</td>\n",
              "      <td>0</td>\n",
              "      <td>weekday</td>\n",
              "      <td>110</td>\n",
              "      <td>103</td>\n",
              "      <td>3</td>\n",
              "      <td>2</td>\n",
              "      <td>10</td>\n",
              "      <td>9</td>\n",
              "      <td>22</td>\n",
              "      <td>20</td>\n",
              "    </tr>\n",
              "    <tr>\n",
              "      <th>1</th>\n",
              "      <td>75001</td>\n",
              "      <td>1/2/2018</td>\n",
              "      <td>1438</td>\n",
              "      <td>1</td>\n",
              "      <td>weekday</td>\n",
              "      <td>98</td>\n",
              "      <td>94</td>\n",
              "      <td>1</td>\n",
              "      <td>1</td>\n",
              "      <td>8</td>\n",
              "      <td>8</td>\n",
              "      <td>23</td>\n",
              "      <td>22</td>\n",
              "    </tr>\n",
              "  </tbody>\n",
              "</table>\n",
              "</div>"
            ],
            "text/plain": [
              "   Postal code      date  ...  Slots_freed_sum  Slots_taken_sum\n",
              "0        75001  1/1/2018  ...               22               20\n",
              "1        75001  1/2/2018  ...               23               22\n",
              "\n",
              "[2 rows x 13 columns]"
            ]
          },
          "metadata": {
            "tags": []
          },
          "execution_count": 75
        }
      ]
    },
    {
      "cell_type": "code",
      "metadata": {
        "id": "4iUIAx0PgI6f",
        "colab_type": "code",
        "colab": {
          "base_uri": "https://localhost:8080/",
          "height": 295
        },
        "outputId": "1d365dcb-97c8-4136-806c-caf48bdfbe76"
      },
      "source": [
        "plt.bar(autolib_dataset['dayOfWeek'], autolib_dataset['BlueCars_taken_sum'], label= 'Blue cars sum', bottom= autolib_dataset['Utilib_taken_sum']+autolib_dataset['Utilib_14_taken_sum'])\n",
        "plt.bar(autolib_dataset['dayOfWeek'], autolib_dataset['Utilib_taken_sum'], label= 'utilib cars sum', bottom= autolib_dataset['Utilib_14_taken_sum'])\n",
        "plt.bar(autolib_dataset['dayOfWeek'], autolib_dataset['Utilib_14_taken_sum'], label= 'utilib14 cars sum')\n",
        "plt.title('Stacked bar graph showing sum of different cars weekly')\n",
        "plt.xlabel('Days of the Week')\n",
        "plt.show()"
      ],
      "execution_count": 83,
      "outputs": [
        {
          "output_type": "display_data",
          "data": {
            "image/png": "[encoded data removed]",
            "text/plain": [
              "<Figure size 432x288 with 1 Axes>"
            ]
          },
          "metadata": {
            "tags": [],
            "needs_background": "light"
          }
        }
      ]
    },
    {
      "cell_type": "code",
      "metadata": {
        "id": "AugeDw7pon-s",
        "colab_type": "code",
        "colab": {
          "base_uri": "https://localhost:8080/",
          "height": 395
        },
        "outputId": "c80b7f66-5008-41b9-ee02-bd9848046ba3"
      },
      "source": [
        "# correlation\n",
        "sns.heatmap(autolib_dataset.corr())"
      ],
      "execution_count": 25,
      "outputs": [
        {
          "output_type": "execute_result",
          "data": {
            "text/plain": [
              "<matplotlib.axes._subplots.AxesSubplot at 0x7f50bb534b00>"
            ]
          },
          "metadata": {
            "tags": []
          },
          "execution_count": 25
        },
        {
          "output_type": "display_data",
          "data": {
            "image/png": "[encoded data removed]",
            "text/plain": [
              "<Figure size 432x288 with 2 Axes>"
            ]
          },
          "metadata": {
            "tags": [],
            "needs_background": "light"
          }
        }
      ]
    },
    {
      "cell_type": "markdown",
      "metadata": {
        "id": "d4eZoGYQowaG",
        "colab_type": "text"
      },
      "source": [
        "## Hypothesis testing"
      ]
    },
    {
      "cell_type": "markdown",
      "metadata": {
        "id": "3h3pPZrLz08V",
        "colab_type": "text"
      },
      "source": [
        "### Problem Statement"
      ]
    },
    {
      "cell_type": "markdown",
      "metadata": {
        "id": "kRE4eOTbpaJM",
        "colab_type": "text"
      },
      "source": [
        "As a data scientist, I wanted to investigate the usage of blue electric cars in the city of Paris, France. The data provided is grouped according to the 4 areas of the city of Paris (Paris, Bobigny, Créteil, Nanterre) . I specifically looked at two areas that is, Paris (denoted by postcode starting with 75) and Créteil (starting with the postcode 94). \n",
        "The Autolib company claims that the mean usage of Bluecars is no different in the Paris area. As a researcher, I decided to investigate if the claim was true in the areas of Paris and Créteil. I decided to compare the mean Bluecars taken in Paris to the mean Bluecars taken in Créteil to check if there was a difference."
      ]
    },
    {
      "cell_type": "markdown",
      "metadata": {
        "id": "6vKFyKAl0JRz",
        "colab_type": "text"
      },
      "source": [
        "Therefore the research hypothesis is as follows\n",
        "\n",
        "Ho : µ1 − µ2 = 0 The mean usage of Bluecars in Paris is not significantly different from the mean usage of Bluecars in Créteil\n",
        "\n",
        "Ha : µ1 − µ2 ≠ 0 The mean usage of Bluecars in Paris is significantly different from the mean usage of Bluecars in Créteil\n",
        "\n",
        "This research is important to identify if the electric car market in the city of Paris is segmented and therefore needs to be addressed separately. As previous research indicates that several postcodes have more usage than others, it would be prudent to identify if it reflects the difference in mean usage according to the area of usage."
      ]
    },
    {
      "cell_type": "code",
      "metadata": {
        "id": "s2JRyyNw7Dp7",
        "colab_type": "code",
        "colab": {
          "base_uri": "https://localhost:8080/",
          "height": 179
        },
        "outputId": "a4104b56-d801-4e4e-e50c-c29bfedbdaf3"
      },
      "source": [
        "autolib_dataset.head(3)"
      ],
      "execution_count": 84,
      "outputs": [
        {
          "output_type": "execute_result",
          "data": {
            "text/html": [
              "<div>\n",
              "<style scoped>\n",
              "    .dataframe tbody tr th:only-of-type {\n",
              "        vertical-align: middle;\n",
              "    }\n",
              "\n",
              "    .dataframe tbody tr th {\n",
              "        vertical-align: top;\n",
              "    }\n",
              "\n",
              "    .dataframe thead th {\n",
              "        text-align: right;\n",
              "    }\n",
              "</style>\n",
              "<table border=\"1\" class=\"dataframe\">\n",
              "  <thead>\n",
              "    <tr style=\"text-align: right;\">\n",
              "      <th></th>\n",
              "      <th>Postal code</th>\n",
              "      <th>date</th>\n",
              "      <th>n_daily_data_points</th>\n",
              "      <th>dayOfWeek</th>\n",
              "      <th>day_type</th>\n",
              "      <th>BlueCars_taken_sum</th>\n",
              "      <th>BlueCars_returned_sum</th>\n",
              "      <th>Utilib_taken_sum</th>\n",
              "      <th>Utilib_returned_sum</th>\n",
              "      <th>Utilib_14_taken_sum</th>\n",
              "      <th>Utilib_14_returned_sum</th>\n",
              "      <th>Slots_freed_sum</th>\n",
              "      <th>Slots_taken_sum</th>\n",
              "    </tr>\n",
              "  </thead>\n",
              "  <tbody>\n",
              "    <tr>\n",
              "      <th>0</th>\n",
              "      <td>75001</td>\n",
              "      <td>1/1/2018</td>\n",
              "      <td>1440</td>\n",
              "      <td>0</td>\n",
              "      <td>weekday</td>\n",
              "      <td>110</td>\n",
              "      <td>103</td>\n",
              "      <td>3</td>\n",
              "      <td>2</td>\n",
              "      <td>10</td>\n",
              "      <td>9</td>\n",
              "      <td>22</td>\n",
              "      <td>20</td>\n",
              "    </tr>\n",
              "    <tr>\n",
              "      <th>1</th>\n",
              "      <td>75001</td>\n",
              "      <td>1/2/2018</td>\n",
              "      <td>1438</td>\n",
              "      <td>1</td>\n",
              "      <td>weekday</td>\n",
              "      <td>98</td>\n",
              "      <td>94</td>\n",
              "      <td>1</td>\n",
              "      <td>1</td>\n",
              "      <td>8</td>\n",
              "      <td>8</td>\n",
              "      <td>23</td>\n",
              "      <td>22</td>\n",
              "    </tr>\n",
              "    <tr>\n",
              "      <th>2</th>\n",
              "      <td>75001</td>\n",
              "      <td>1/3/2018</td>\n",
              "      <td>1439</td>\n",
              "      <td>2</td>\n",
              "      <td>weekday</td>\n",
              "      <td>138</td>\n",
              "      <td>139</td>\n",
              "      <td>0</td>\n",
              "      <td>0</td>\n",
              "      <td>2</td>\n",
              "      <td>2</td>\n",
              "      <td>27</td>\n",
              "      <td>27</td>\n",
              "    </tr>\n",
              "  </tbody>\n",
              "</table>\n",
              "</div>"
            ],
            "text/plain": [
              "   Postal code      date  ...  Slots_freed_sum  Slots_taken_sum\n",
              "0        75001  1/1/2018  ...               22               20\n",
              "1        75001  1/2/2018  ...               23               22\n",
              "2        75001  1/3/2018  ...               27               27\n",
              "\n",
              "[3 rows x 13 columns]"
            ]
          },
          "metadata": {
            "tags": []
          },
          "execution_count": 84
        }
      ]
    },
    {
      "cell_type": "code",
      "metadata": {
        "id": "dLzVTSVE4A0V",
        "colab_type": "code",
        "colab": {
          "base_uri": "https://localhost:8080/",
          "height": 204
        },
        "outputId": "ec3aeadf-e47a-4089-a543-f5f53e191a23"
      },
      "source": [
        "# dropping the irrelevant columns\n",
        "autolib_dataset_dropped = autolib_dataset.drop(['n_daily_data_points','Utilib_taken_sum','Utilib_returned_sum','Utilib_14_taken_sum','Utilib_14_returned_sum','Slots_freed_sum','Slots_taken_sum'], axis=1)\n",
        "autolib_dataset_dropped.head()\n"
      ],
      "execution_count": 7,
      "outputs": [
        {
          "output_type": "execute_result",
          "data": {
            "text/html": [
              "<div>\n",
              "<style scoped>\n",
              "    .dataframe tbody tr th:only-of-type {\n",
              "        vertical-align: middle;\n",
              "    }\n",
              "\n",
              "    .dataframe tbody tr th {\n",
              "        vertical-align: top;\n",
              "    }\n",
              "\n",
              "    .dataframe thead th {\n",
              "        text-align: right;\n",
              "    }\n",
              "</style>\n",
              "<table border=\"1\" class=\"dataframe\">\n",
              "  <thead>\n",
              "    <tr style=\"text-align: right;\">\n",
              "      <th></th>\n",
              "      <th>Postal code</th>\n",
              "      <th>date</th>\n",
              "      <th>dayOfWeek</th>\n",
              "      <th>day_type</th>\n",
              "      <th>BlueCars_taken_sum</th>\n",
              "      <th>BlueCars_returned_sum</th>\n",
              "    </tr>\n",
              "  </thead>\n",
              "  <tbody>\n",
              "    <tr>\n",
              "      <th>0</th>\n",
              "      <td>75001</td>\n",
              "      <td>1/1/2018</td>\n",
              "      <td>0</td>\n",
              "      <td>weekday</td>\n",
              "      <td>110</td>\n",
              "      <td>103</td>\n",
              "    </tr>\n",
              "    <tr>\n",
              "      <th>1</th>\n",
              "      <td>75001</td>\n",
              "      <td>1/2/2018</td>\n",
              "      <td>1</td>\n",
              "      <td>weekday</td>\n",
              "      <td>98</td>\n",
              "      <td>94</td>\n",
              "    </tr>\n",
              "    <tr>\n",
              "      <th>2</th>\n",
              "      <td>75001</td>\n",
              "      <td>1/3/2018</td>\n",
              "      <td>2</td>\n",
              "      <td>weekday</td>\n",
              "      <td>138</td>\n",
              "      <td>139</td>\n",
              "    </tr>\n",
              "    <tr>\n",
              "      <th>3</th>\n",
              "      <td>75001</td>\n",
              "      <td>1/4/2018</td>\n",
              "      <td>3</td>\n",
              "      <td>weekday</td>\n",
              "      <td>104</td>\n",
              "      <td>104</td>\n",
              "    </tr>\n",
              "    <tr>\n",
              "      <th>4</th>\n",
              "      <td>75001</td>\n",
              "      <td>1/5/2018</td>\n",
              "      <td>4</td>\n",
              "      <td>weekday</td>\n",
              "      <td>114</td>\n",
              "      <td>117</td>\n",
              "    </tr>\n",
              "  </tbody>\n",
              "</table>\n",
              "</div>"
            ],
            "text/plain": [
              "   Postal code      date  ...  BlueCars_taken_sum BlueCars_returned_sum\n",
              "0        75001  1/1/2018  ...                 110                   103\n",
              "1        75001  1/2/2018  ...                  98                    94\n",
              "2        75001  1/3/2018  ...                 138                   139\n",
              "3        75001  1/4/2018  ...                 104                   104\n",
              "4        75001  1/5/2018  ...                 114                   117\n",
              "\n",
              "[5 rows x 6 columns]"
            ]
          },
          "metadata": {
            "tags": []
          },
          "execution_count": 7
        }
      ]
    },
    {
      "cell_type": "code",
      "metadata": {
        "id": "6T5nkaO_78UW",
        "colab_type": "code",
        "colab": {
          "base_uri": "https://localhost:8080/",
          "height": 493
        },
        "outputId": "6921154d-c00d-4fbe-e8fd-fba391af1a8d"
      },
      "source": [
        "# selecting data from areas Paris and Créteil\n",
        "\n",
        "x = autolib_dataset_dropped[(autolib_dataset_dropped['Postal code'] < 76000) & (autolib_dataset_dropped['day_type'] == 'weekend')]\n",
        "y =  autolib_dataset_dropped[(autolib_dataset_dropped['Postal code'] >= 94000) & (autolib_dataset_dropped['Postal code'] < 95000) & (autolib_dataset_dropped['day_type'] == 'weekend')]\n",
        "\n",
        "print(x)\n",
        "print(y)\n"
      ],
      "execution_count": 8,
      "outputs": [
        {
          "output_type": "stream",
          "text": [
            "      Postal code       date  ...  BlueCars_taken_sum BlueCars_returned_sum\n",
            "5           75001   1/6/2018  ...                 187                   185\n",
            "6           75001   1/7/2018  ...                 180                   180\n",
            "12          75001  1/13/2018  ...                 224                   223\n",
            "13          75001  1/14/2018  ...                 193                   193\n",
            "19          75001  1/20/2018  ...                 217                   217\n",
            "...           ...        ...  ...                 ...                   ...\n",
            "3415        75116   6/3/2018  ...                   7                     8\n",
            "3421        75116   6/9/2018  ...                  11                    11\n",
            "3422        75116  6/10/2018  ...                  13                    14\n",
            "3428        75116  6/16/2018  ...                  14                    18\n",
            "3429        75116  6/17/2018  ...                  11                     9\n",
            "\n",
            "[968 rows x 6 columns]\n",
            "       Postal code       date  ...  BlueCars_taken_sum BlueCars_returned_sum\n",
            "12972        94000   1/6/2018  ...                  98                   109\n",
            "12973        94000   1/7/2018  ...                 117                   104\n",
            "12979        94000  1/13/2018  ...                 124                   121\n",
            "12980        94000  1/14/2018  ...                 115                   111\n",
            "12986        94000  1/20/2018  ...                 134                   117\n",
            "...            ...        ...  ...                 ...                   ...\n",
            "15600        94800   6/3/2018  ...                 124                   111\n",
            "15606        94800   6/9/2018  ...                 121                   104\n",
            "15607        94800  6/10/2018  ...                 116                   125\n",
            "15613        94800  6/16/2018  ...                 124                   124\n",
            "15614        94800  6/17/2018  ...                 125                   123\n",
            "\n",
            "[748 rows x 6 columns]\n"
          ],
          "name": "stdout"
        }
      ]
    },
    {
      "cell_type": "code",
      "metadata": {
        "id": "dvuisnmJDt-F",
        "colab_type": "code",
        "colab": {
          "base_uri": "https://localhost:8080/",
          "height": 204
        },
        "outputId": "5c9305de-dbcf-4612-900f-629468cc2787"
      },
      "source": [
        "# obtaining a random sample from x(paris data)\n",
        "paris_sample = x.sample(frac=0.1)\n",
        "paris_sample.head()\n"
      ],
      "execution_count": 9,
      "outputs": [
        {
          "output_type": "execute_result",
          "data": {
            "text/html": [
              "<div>\n",
              "<style scoped>\n",
              "    .dataframe tbody tr th:only-of-type {\n",
              "        vertical-align: middle;\n",
              "    }\n",
              "\n",
              "    .dataframe tbody tr th {\n",
              "        vertical-align: top;\n",
              "    }\n",
              "\n",
              "    .dataframe thead th {\n",
              "        text-align: right;\n",
              "    }\n",
              "</style>\n",
              "<table border=\"1\" class=\"dataframe\">\n",
              "  <thead>\n",
              "    <tr style=\"text-align: right;\">\n",
              "      <th></th>\n",
              "      <th>Postal code</th>\n",
              "      <th>date</th>\n",
              "      <th>dayOfWeek</th>\n",
              "      <th>day_type</th>\n",
              "      <th>BlueCars_taken_sum</th>\n",
              "      <th>BlueCars_returned_sum</th>\n",
              "    </tr>\n",
              "  </thead>\n",
              "  <tbody>\n",
              "    <tr>\n",
              "      <th>2576</th>\n",
              "      <td>75017</td>\n",
              "      <td>3/25/2018</td>\n",
              "      <td>6</td>\n",
              "      <td>weekend</td>\n",
              "      <td>753</td>\n",
              "      <td>831</td>\n",
              "    </tr>\n",
              "    <tr>\n",
              "      <th>2292</th>\n",
              "      <td>75015</td>\n",
              "      <td>4/22/2018</td>\n",
              "      <td>6</td>\n",
              "      <td>weekend</td>\n",
              "      <td>925</td>\n",
              "      <td>979</td>\n",
              "    </tr>\n",
              "    <tr>\n",
              "      <th>1681</th>\n",
              "      <td>75011</td>\n",
              "      <td>5/5/2018</td>\n",
              "      <td>5</td>\n",
              "      <td>weekend</td>\n",
              "      <td>503</td>\n",
              "      <td>522</td>\n",
              "    </tr>\n",
              "    <tr>\n",
              "      <th>480</th>\n",
              "      <td>75004</td>\n",
              "      <td>1/13/2018</td>\n",
              "      <td>5</td>\n",
              "      <td>weekend</td>\n",
              "      <td>328</td>\n",
              "      <td>326</td>\n",
              "    </tr>\n",
              "    <tr>\n",
              "      <th>1944</th>\n",
              "      <td>75013</td>\n",
              "      <td>3/17/2018</td>\n",
              "      <td>5</td>\n",
              "      <td>weekend</td>\n",
              "      <td>681</td>\n",
              "      <td>678</td>\n",
              "    </tr>\n",
              "  </tbody>\n",
              "</table>\n",
              "</div>"
            ],
            "text/plain": [
              "      Postal code       date  ...  BlueCars_taken_sum BlueCars_returned_sum\n",
              "2576        75017  3/25/2018  ...                 753                   831\n",
              "2292        75015  4/22/2018  ...                 925                   979\n",
              "1681        75011   5/5/2018  ...                 503                   522\n",
              "480         75004  1/13/2018  ...                 328                   326\n",
              "1944        75013  3/17/2018  ...                 681                   678\n",
              "\n",
              "[5 rows x 6 columns]"
            ]
          },
          "metadata": {
            "tags": []
          },
          "execution_count": 9
        }
      ]
    },
    {
      "cell_type": "code",
      "metadata": {
        "id": "26m9SB4nMZG3",
        "colab_type": "code",
        "colab": {
          "base_uri": "https://localhost:8080/",
          "height": 419
        },
        "outputId": "5ce8d416-a45a-4bc8-b272-86041b62b96d"
      },
      "source": [
        "# obtaining a random sample from y(Créteil data)\n",
        "creteil_sample = y.sample(frac=0.1)\n",
        "creteil_sample"
      ],
      "execution_count": 10,
      "outputs": [
        {
          "output_type": "execute_result",
          "data": {
            "text/html": [
              "<div>\n",
              "<style scoped>\n",
              "    .dataframe tbody tr th:only-of-type {\n",
              "        vertical-align: middle;\n",
              "    }\n",
              "\n",
              "    .dataframe tbody tr th {\n",
              "        vertical-align: top;\n",
              "    }\n",
              "\n",
              "    .dataframe thead th {\n",
              "        text-align: right;\n",
              "    }\n",
              "</style>\n",
              "<table border=\"1\" class=\"dataframe\">\n",
              "  <thead>\n",
              "    <tr style=\"text-align: right;\">\n",
              "      <th></th>\n",
              "      <th>Postal code</th>\n",
              "      <th>date</th>\n",
              "      <th>dayOfWeek</th>\n",
              "      <th>day_type</th>\n",
              "      <th>BlueCars_taken_sum</th>\n",
              "      <th>BlueCars_returned_sum</th>\n",
              "    </tr>\n",
              "  </thead>\n",
              "  <tbody>\n",
              "    <tr>\n",
              "      <th>14159</th>\n",
              "      <td>94160</td>\n",
              "      <td>4/15/2018</td>\n",
              "      <td>6</td>\n",
              "      <td>weekend</td>\n",
              "      <td>95</td>\n",
              "      <td>89</td>\n",
              "    </tr>\n",
              "    <tr>\n",
              "      <th>14442</th>\n",
              "      <td>94230</td>\n",
              "      <td>3/17/2018</td>\n",
              "      <td>5</td>\n",
              "      <td>weekend</td>\n",
              "      <td>45</td>\n",
              "      <td>44</td>\n",
              "    </tr>\n",
              "    <tr>\n",
              "      <th>14559</th>\n",
              "      <td>94300</td>\n",
              "      <td>2/3/2018</td>\n",
              "      <td>5</td>\n",
              "      <td>weekend</td>\n",
              "      <td>69</td>\n",
              "      <td>66</td>\n",
              "    </tr>\n",
              "    <tr>\n",
              "      <th>13663</th>\n",
              "      <td>94130</td>\n",
              "      <td>3/18/2018</td>\n",
              "      <td>6</td>\n",
              "      <td>weekend</td>\n",
              "      <td>50</td>\n",
              "      <td>44</td>\n",
              "    </tr>\n",
              "    <tr>\n",
              "      <th>13385</th>\n",
              "      <td>94110</td>\n",
              "      <td>4/21/2018</td>\n",
              "      <td>5</td>\n",
              "      <td>weekend</td>\n",
              "      <td>40</td>\n",
              "      <td>38</td>\n",
              "    </tr>\n",
              "    <tr>\n",
              "      <th>...</th>\n",
              "      <td>...</td>\n",
              "      <td>...</td>\n",
              "      <td>...</td>\n",
              "      <td>...</td>\n",
              "      <td>...</td>\n",
              "      <td>...</td>\n",
              "    </tr>\n",
              "    <tr>\n",
              "      <th>13793</th>\n",
              "      <td>94140</td>\n",
              "      <td>2/17/2018</td>\n",
              "      <td>5</td>\n",
              "      <td>weekend</td>\n",
              "      <td>87</td>\n",
              "      <td>83</td>\n",
              "    </tr>\n",
              "    <tr>\n",
              "      <th>14131</th>\n",
              "      <td>94160</td>\n",
              "      <td>3/18/2018</td>\n",
              "      <td>6</td>\n",
              "      <td>weekend</td>\n",
              "      <td>70</td>\n",
              "      <td>82</td>\n",
              "    </tr>\n",
              "    <tr>\n",
              "      <th>13081</th>\n",
              "      <td>94000</td>\n",
              "      <td>4/28/2018</td>\n",
              "      <td>5</td>\n",
              "      <td>weekend</td>\n",
              "      <td>141</td>\n",
              "      <td>133</td>\n",
              "    </tr>\n",
              "    <tr>\n",
              "      <th>13735</th>\n",
              "      <td>94130</td>\n",
              "      <td>6/9/2018</td>\n",
              "      <td>5</td>\n",
              "      <td>weekend</td>\n",
              "      <td>53</td>\n",
              "      <td>50</td>\n",
              "    </tr>\n",
              "    <tr>\n",
              "      <th>13098</th>\n",
              "      <td>94000</td>\n",
              "      <td>5/26/2018</td>\n",
              "      <td>5</td>\n",
              "      <td>weekend</td>\n",
              "      <td>152</td>\n",
              "      <td>122</td>\n",
              "    </tr>\n",
              "  </tbody>\n",
              "</table>\n",
              "<p>75 rows × 6 columns</p>\n",
              "</div>"
            ],
            "text/plain": [
              "       Postal code       date  ...  BlueCars_taken_sum BlueCars_returned_sum\n",
              "14159        94160  4/15/2018  ...                  95                    89\n",
              "14442        94230  3/17/2018  ...                  45                    44\n",
              "14559        94300   2/3/2018  ...                  69                    66\n",
              "13663        94130  3/18/2018  ...                  50                    44\n",
              "13385        94110  4/21/2018  ...                  40                    38\n",
              "...            ...        ...  ...                 ...                   ...\n",
              "13793        94140  2/17/2018  ...                  87                    83\n",
              "14131        94160  3/18/2018  ...                  70                    82\n",
              "13081        94000  4/28/2018  ...                 141                   133\n",
              "13735        94130   6/9/2018  ...                  53                    50\n",
              "13098        94000  5/26/2018  ...                 152                   122\n",
              "\n",
              "[75 rows x 6 columns]"
            ]
          },
          "metadata": {
            "tags": []
          },
          "execution_count": 10
        }
      ]
    },
    {
      "cell_type": "markdown",
      "metadata": {
        "id": "qZEj9zL0Tu14",
        "colab_type": "text"
      },
      "source": [
        "### Checking assumptions of normality"
      ]
    },
    {
      "cell_type": "code",
      "metadata": {
        "id": "Me0O-paqHZov",
        "colab_type": "code",
        "colab": {
          "base_uri": "https://localhost:8080/",
          "height": 279
        },
        "outputId": "b46f5390-37b6-4960-d3ea-9ffcbb521bf9"
      },
      "source": [
        "# testing for normality of the Paris samples \n",
        "\n",
        "from statsmodels.graphics.gofplots import qqplot\n",
        "\n",
        "qqplot(paris_sample['BlueCars_taken_sum'], line='s')\n",
        "plt.show()"
      ],
      "execution_count": 136,
      "outputs": [
        {
          "output_type": "display_data",
          "data": {
            "image/png": "[encoded data removed]",
            "text/plain": [
              "<Figure size 432x288 with 1 Axes>"
            ]
          },
          "metadata": {
            "tags": [],
            "needs_background": "light"
          }
        }
      ]
    },
    {
      "cell_type": "code",
      "metadata": {
        "id": "RhBeselDO80g",
        "colab_type": "code",
        "colab": {
          "base_uri": "https://localhost:8080/",
          "height": 279
        },
        "outputId": "1a64a941-16d7-4788-a459-fb05d834a5ef"
      },
      "source": [
        "# testing for normality of the Créteil sample \n",
        "\n",
        "qqplot(creteil_sample['BlueCars_taken_sum'], line='s')\n",
        "plt.show()"
      ],
      "execution_count": 137,
      "outputs": [
        {
          "output_type": "display_data",
          "data": {
            "image/png": "[encoded data removed]",
            "text/plain": [
              "<Figure size 432x288 with 1 Axes>"
            ]
          },
          "metadata": {
            "tags": [],
            "needs_background": "light"
          }
        }
      ]
    },
    {
      "cell_type": "markdown",
      "metadata": {
        "id": "TndEVeCrdN2p",
        "colab_type": "text"
      },
      "source": [
        "### Calculating the T statistic"
      ]
    },
    {
      "cell_type": "code",
      "metadata": {
        "id": "-W60TXY7dohf",
        "colab_type": "code",
        "colab": {
          "base_uri": "https://localhost:8080/",
          "height": 51
        },
        "outputId": "1bd93691-e1e0-4731-ef54-cda3f7cc2daf"
      },
      "source": [
        "# The assumption is that the probability is normally distributed and that the \n",
        "# variance in the usage of bluecars in Paris is different to the variance in the \n",
        "# usage of bluecars in Créteil. Therefore we are going to conduct a 2-sample \n",
        "# ttest of population means with unknown unequal variances\n",
        "\n",
        "x_bar = np.mean(paris_sample['BlueCars_taken_sum'])\n",
        "y_bar = np.mean(creteil_sample['BlueCars_taken_sum'])\n",
        "x_std = np.std(paris_sample['BlueCars_taken_sum'])\n",
        "y_std = np.std(creteil_sample['BlueCars_taken_sum'])\n",
        "\n",
        "n1 = 97\n",
        "n2 = 75\n",
        "\n",
        "print(x_bar, y_bar, x_std, y_std)\n",
        "\n",
        "t_stat = (x_bar - y_bar) / np.sqrt((x_std**2 / n1) + (y_std**2 / n2))\n",
        "print('The Test statistic is ' + str(t_stat))"
      ],
      "execution_count": 11,
      "outputs": [
        {
          "output_type": "stream",
          "text": [
            "508.7938144329897 61.306666666666665 299.2859522243772 37.96664266900031\n",
            "The Test statistic is 14.574945129404258\n"
          ],
          "name": "stdout"
        }
      ]
    },
    {
      "cell_type": "code",
      "metadata": {
        "id": "cyhSSUtEoSht",
        "colab_type": "code",
        "colab": {
          "base_uri": "https://localhost:8080/",
          "height": 34
        },
        "outputId": "9d920b54-6c21-40d5-d236-423e2ecb04de"
      },
      "source": [
        "# calculating the t critical\n",
        "df = 97 + 75 - 2\n",
        "alpha = 0.05\n",
        "\n",
        "cv = t.ppf(1 - alpha, df)\n",
        "cv"
      ],
      "execution_count": 20,
      "outputs": [
        {
          "output_type": "execute_result",
          "data": {
            "text/plain": [
              "1.6538663174513006"
            ]
          },
          "metadata": {
            "tags": []
          },
          "execution_count": 20
        }
      ]
    },
    {
      "cell_type": "code",
      "metadata": {
        "id": "WIFTHnTttyfa",
        "colab_type": "code",
        "colab": {
          "base_uri": "https://localhost:8080/",
          "height": 34
        },
        "outputId": "a1e2b564-9fe5-4631-a5ab-a52c4c55a496"
      },
      "source": [
        "# calculating the p value\n",
        "p = (1-t.cdf(abs(t_stat),df))*2\n",
        "p"
      ],
      "execution_count": 21,
      "outputs": [
        {
          "output_type": "execute_result",
          "data": {
            "text/plain": [
              "0.0"
            ]
          },
          "metadata": {
            "tags": []
          },
          "execution_count": 21
        }
      ]
    },
    {
      "cell_type": "code",
      "metadata": {
        "id": "izXvHqd5yzpc",
        "colab_type": "code",
        "colab": {
          "base_uri": "https://localhost:8080/",
          "height": 34
        },
        "outputId": "fc504551-47d9-4d61-d061-fbc34ffd8dd5"
      },
      "source": [
        "# determine the decision from the hypothesis test\n",
        "if p <= alpha:\n",
        "  print('Reject the null hypothesis. There is a significant difference.')\n",
        "else:\n",
        "  print('Fail to reject the null hypothesis. There is no significant difference.')"
      ],
      "execution_count": 24,
      "outputs": [
        {
          "output_type": "stream",
          "text": [
            "Reject the null hypothesis. There is a significant difference.\n"
          ],
          "name": "stdout"
        }
      ]
    },
    {
      "cell_type": "markdown",
      "metadata": {
        "id": "MXJMZKSnz5SZ",
        "colab_type": "text"
      },
      "source": [
        "The null hypothesis has been rejected. This therefore shows that there is a significant difference between the mean usage of Bluecars in Paris and the mean usage of Bluecars in Créteil."
      ]
    }
  ]
}